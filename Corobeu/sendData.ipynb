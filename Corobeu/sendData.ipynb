{
 "cells": [
  {
   "cell_type": "code",
   "execution_count": 2,
   "metadata": {
    "jupyter": {
     "source_hidden": true
    }
   },
   "outputs": [],
   "source": [
    "import socket\n",
    "import time\n",
    "import csv\n",
    "\n",
    "\n",
    "def send_data(speed1, speed2, direction1, direction2, IP, PORT = 80):\n",
    "    # combined_value = (speed1 << 16) | speed2 \n",
    "    combined_value = (speed1 << 24) | (speed2 << 16) | (direction1 << 8) | direction2\n",
    "    retry_delay = 2  # Tempo de espera (em segundos) entre tentativas\n",
    "\n",
    "    while True:  # Loop infinito para tentativas indefinidas\n",
    "        try:\n",
    "            with socket.socket(socket.AF_INET, socket.SOCK_STREAM) as s:\n",
    "                print(\"Trying to connect to ESP32...\")\n",
    "                s.connect((IP, PORT))\n",
    "                s.sendall(combined_value.to_bytes(4, byteorder='little'))  # Envia o valor como 4 bytes\n",
    "                print(\"Data sent successfully.\")\n",
    "                return  # Sai da função após o envio bem-sucedido\n",
    "        except ConnectionRefusedError:\n",
    "            print(f\"Connection refused, retrying in {retry_delay} seconds...\")\n",
    "            time.sleep(retry_delay)  # Aguarda antes de tentar novamente\n"
   ]
  },
  {
   "cell_type": "markdown",
   "metadata": {},
   "source": [
    "## ENVIA DADOS DE VELOCIDADE E PID"
   ]
  },
  {
   "cell_type": "code",
   "execution_count": 4,
   "metadata": {},
   "outputs": [],
   "source": [
    "import socket\n",
    "import time\n",
    "\n",
    "def send_speed(speed_left, speed_right, dir_left, dir_right, ip, port=80):\n",
    "    \"\"\"\n",
    "    Envia dados binários codificados como 4 bytes:\n",
    "    [speed_left << 24 | speed_right << 16 | dir_left << 8 | dir_right]\n",
    "    \"\"\"\n",
    "    value = (speed_left << 24) | (speed_right << 16) | (dir_left << 8) | dir_right\n",
    "\n",
    "    try:\n",
    "        with socket.socket(socket.AF_INET, socket.SOCK_STREAM) as s:\n",
    "            s.settimeout(3)\n",
    "            # Desabilita o algoritmo de Nagle pra mandar tudo de uma vez\n",
    "            s.setsockopt(socket.IPPROTO_TCP, socket.TCP_NODELAY, 1)\n",
    "            s.connect((ip, port))\n",
    "            # Pequeno atraso para garantir handshake concluído\n",
    "            time.sleep(0.01)\n",
    "            # Envia em little-endian (conforme sua leitura no ESP32)\n",
    "            s.sendall(value.to_bytes(4, byteorder='little'))\n",
    "            s.shutdown(socket.SHUT_WR)\n",
    "            print(\"✔️ Velocidade enviada com sucesso.\")\n",
    "    except Exception as e:\n",
    "        print(\"❌ Falha ao enviar velocidade:\", e)\n",
    "\n",
    "def send_pid_param(param_str, ip, port=80):\n",
    "    \"\"\"\n",
    "    Envia parâmetros PID como texto (ex: \"KPR=1.23\\n\").\n",
    "    \"\"\"\n",
    "    try:\n",
    "        with socket.socket(socket.AF_INET, socket.SOCK_STREAM) as s:\n",
    "            s.settimeout(3)\n",
    "            s.setsockopt(socket.IPPROTO_TCP, socket.TCP_NODELAY, 1)\n",
    "            s.connect((ip, port))\n",
    "            time.sleep(0.01)\n",
    "            s.sendall((param_str.strip() + \"\\n\").encode())\n",
    "            s.shutdown(socket.SHUT_WR)\n",
    "            print(f\"✔️ Parâmetro enviado: {param_str}\")\n",
    "    except Exception as e:\n",
    "        print(\"❌ Falha ao enviar parâmetro:\", e)\n"
   ]
  },
  {
   "cell_type": "code",
   "execution_count": null,
   "metadata": {},
   "outputs": [],
   "source": []
  },
  {
   "cell_type": "markdown",
   "metadata": {},
   "source": [
    "### Exemplos de usos:"
   ]
  },
  {
   "cell_type": "raw",
   "metadata": {},
   "source": [
    "IP_ROBO = \"192.168.1.XXX\"\n",
    "\n",
    "velocidade_right = velocidade_left = 150\n",
    "direcao_right = direcao_left = 1 \n",
    "\n",
    "send_speed(velocidade_right, velocidade_left, direcao_right, direcao_left, IP_ROBO)\n",
    "\n",
    "KIR = 0.1891\n",
    "send_pid_param(f\"KIR={KIR}\\n\", IP_ROBO) # ONDE R REFERE A RODA DIREITA \n",
    "send_pid_param(f\"KIR={KIR}\\n\", IP_ROBO) # (APENAS UTILIZANDO O CÓDIGO 'mainTeste.ino')"
   ]
  },
  {
   "cell_type": "markdown",
   "metadata": {},
   "source": [
    "## Utilização"
   ]
  },
  {
   "cell_type": "code",
   "execution_count": 1,
   "metadata": {},
   "outputs": [],
   "source": [
    "from config import IP_ARES, IP_ZEUS, IP_KRATOS"
   ]
  },
  {
   "cell_type": "markdown",
   "metadata": {},
   "source": [
    "#### IPs:"
   ]
  },
  {
   "cell_type": "code",
   "execution_count": 2,
   "metadata": {},
   "outputs": [],
   "source": [
    "IP_ROBO = IP_ARES"
   ]
  },
  {
   "cell_type": "code",
   "execution_count": 4,
   "metadata": {},
   "outputs": [],
   "source": [
    "IP_ROBO = IP_ZEUS\n"
   ]
  },
  {
   "cell_type": "code",
   "execution_count": 10,
   "metadata": {},
   "outputs": [],
   "source": [
    "IP_ROBO = IP_KRATOS"
   ]
  },
  {
   "cell_type": "code",
   "execution_count": null,
   "metadata": {},
   "outputs": [],
   "source": [
    "IP_ROBO = \"192.168.209.30\""
   ]
  },
  {
   "cell_type": "markdown",
   "metadata": {},
   "source": [
    "#### Velocidades:"
   ]
  },
  {
   "cell_type": "code",
   "execution_count": 8,
   "metadata": {},
   "outputs": [
    {
     "name": "stdout",
     "output_type": "stream",
     "text": [
      "✔️ Velocidade enviada com sucesso.\n"
     ]
    }
   ],
   "source": [
    "\n",
    "send_speed(180, 150, 1, 1, IP_ROBO)"
   ]
  },
  {
   "cell_type": "code",
   "execution_count": null,
   "metadata": {},
   "outputs": [
    {
     "name": "stdout",
     "output_type": "stream",
     "text": [
      "✔️ Velocidade enviada com sucesso.\n",
      "✔️ Velocidade enviada com sucesso.\n",
      "✔️ Velocidade enviada com sucesso.\n",
      "✔️ Velocidade enviada com sucesso.\n",
      "✔️ Velocidade enviada com sucesso.\n",
      "✔️ Velocidade enviada com sucesso.\n",
      "✔️ Velocidade enviada com sucesso.\n",
      "✔️ Velocidade enviada com sucesso.\n",
      "✔️ Velocidade enviada com sucesso.\n",
      "✔️ Velocidade enviada com sucesso.\n",
      "✔️ Velocidade enviada com sucesso.\n",
      "✔️ Velocidade enviada com sucesso.\n",
      "✔️ Velocidade enviada com sucesso.\n",
      "✔️ Velocidade enviada com sucesso.\n",
      "✔️ Velocidade enviada com sucesso.\n",
      "✔️ Velocidade enviada com sucesso.\n",
      "✔️ Velocidade enviada com sucesso.\n",
      "✔️ Velocidade enviada com sucesso.\n",
      "✔️ Velocidade enviada com sucesso.\n",
      "✔️ Velocidade enviada com sucesso.\n",
      "✔️ Velocidade enviada com sucesso.\n",
      "✔️ Velocidade enviada com sucesso.\n",
      "✔️ Velocidade enviada com sucesso.\n",
      "✔️ Velocidade enviada com sucesso.\n",
      "✔️ Velocidade enviada com sucesso.\n",
      "✔️ Velocidade enviada com sucesso.\n",
      "✔️ Velocidade enviada com sucesso.\n",
      "✔️ Velocidade enviada com sucesso.\n",
      "✔️ Velocidade enviada com sucesso.\n",
      "✔️ Velocidade enviada com sucesso.\n",
      "✔️ Velocidade enviada com sucesso.\n",
      "✔️ Velocidade enviada com sucesso.\n",
      "✔️ Velocidade enviada com sucesso.\n",
      "✔️ Velocidade enviada com sucesso.\n",
      "✔️ Velocidade enviada com sucesso.\n",
      "✔️ Velocidade enviada com sucesso.\n",
      "✔️ Velocidade enviada com sucesso.\n",
      "✔️ Velocidade enviada com sucesso.\n",
      "✔️ Velocidade enviada com sucesso.\n",
      "✔️ Velocidade enviada com sucesso.\n",
      "✔️ Velocidade enviada com sucesso.\n",
      "✔️ Velocidade enviada com sucesso.\n",
      "✔️ Velocidade enviada com sucesso.\n",
      "✔️ Velocidade enviada com sucesso.\n",
      "✔️ Velocidade enviada com sucesso.\n",
      "✔️ Velocidade enviada com sucesso.\n",
      "✔️ Velocidade enviada com sucesso.\n",
      "✔️ Velocidade enviada com sucesso.\n",
      "✔️ Velocidade enviada com sucesso.\n",
      "✔️ Velocidade enviada com sucesso.\n",
      "✔️ Velocidade enviada com sucesso.\n",
      "✔️ Velocidade enviada com sucesso.\n",
      "✔️ Velocidade enviada com sucesso.\n",
      "✔️ Velocidade enviada com sucesso.\n",
      "✔️ Velocidade enviada com sucesso.\n",
      "✔️ Velocidade enviada com sucesso.\n",
      "✔️ Velocidade enviada com sucesso.\n",
      "✔️ Velocidade enviada com sucesso.\n",
      "✔️ Velocidade enviada com sucesso.\n",
      "✔️ Velocidade enviada com sucesso.\n",
      "✔️ Velocidade enviada com sucesso.\n",
      "✔️ Velocidade enviada com sucesso.\n",
      "✔️ Velocidade enviada com sucesso.\n",
      "✔️ Velocidade enviada com sucesso.\n"
     ]
    },
    {
     "ename": "KeyboardInterrupt",
     "evalue": "",
     "output_type": "error",
     "traceback": [
      "\u001b[0;31m---------------------------------------------------------------------------\u001b[0m",
      "\u001b[0;31mKeyboardInterrupt\u001b[0m                         Traceback (most recent call last)",
      "Cell \u001b[0;32mIn[7], line 2\u001b[0m\n\u001b[1;32m      1\u001b[0m \u001b[38;5;28;01mwhile\u001b[39;00m \u001b[38;5;28;01mTrue\u001b[39;00m:\n\u001b[0;32m----> 2\u001b[0m     \u001b[43msend_speed\u001b[49m\u001b[43m(\u001b[49m\u001b[38;5;241;43m0\u001b[39;49m\u001b[43m,\u001b[49m\u001b[43m \u001b[49m\u001b[38;5;241;43m0\u001b[39;49m\u001b[43m,\u001b[49m\u001b[43m \u001b[49m\u001b[38;5;241;43m1\u001b[39;49m\u001b[43m,\u001b[49m\u001b[43m \u001b[49m\u001b[38;5;241;43m1\u001b[39;49m\u001b[43m,\u001b[49m\u001b[43m \u001b[49m\u001b[43mIP_ROBO\u001b[49m\u001b[43m)\u001b[49m\n",
      "Cell \u001b[0;32mIn[2], line 16\u001b[0m, in \u001b[0;36msend_speed\u001b[0;34m(speed_left, speed_right, dir_left, dir_right, ip, port)\u001b[0m\n\u001b[1;32m     14\u001b[0m \u001b[38;5;66;03m# Desabilita o algoritmo de Nagle pra mandar tudo de uma vez\u001b[39;00m\n\u001b[1;32m     15\u001b[0m s\u001b[38;5;241m.\u001b[39msetsockopt(socket\u001b[38;5;241m.\u001b[39mIPPROTO_TCP, socket\u001b[38;5;241m.\u001b[39mTCP_NODELAY, \u001b[38;5;241m1\u001b[39m)\n\u001b[0;32m---> 16\u001b[0m \u001b[43ms\u001b[49m\u001b[38;5;241;43m.\u001b[39;49m\u001b[43mconnect\u001b[49m\u001b[43m(\u001b[49m\u001b[43m(\u001b[49m\u001b[43mip\u001b[49m\u001b[43m,\u001b[49m\u001b[43m \u001b[49m\u001b[43mport\u001b[49m\u001b[43m)\u001b[49m\u001b[43m)\u001b[49m\n\u001b[1;32m     17\u001b[0m \u001b[38;5;66;03m# Pequeno atraso para garantir handshake concluído\u001b[39;00m\n\u001b[1;32m     18\u001b[0m time\u001b[38;5;241m.\u001b[39msleep(\u001b[38;5;241m0.01\u001b[39m)\n",
      "\u001b[0;31mKeyboardInterrupt\u001b[0m: "
     ]
    },
    {
     "ename": "",
     "evalue": "",
     "output_type": "error",
     "traceback": [
      "\u001b[1;31mThe Kernel crashed while executing code in the current cell or a previous cell. \n",
      "\u001b[1;31mPlease review the code in the cell(s) to identify a possible cause of the failure. \n",
      "\u001b[1;31mClick <a href='https://aka.ms/vscodeJupyterKernelCrash'>here</a> for more info. \n",
      "\u001b[1;31mView Jupyter <a href='command:jupyter.viewOutput'>log</a> for further details."
     ]
    }
   ],
   "source": [
    "\n",
    "\n",
    "send_speed(0, 0, 1, 1, IP_ROBO)"
   ]
  },
  {
   "cell_type": "code",
   "execution_count": null,
   "metadata": {},
   "outputs": [],
   "source": []
  }
 ],
 "metadata": {
  "kernelspec": {
   "display_name": "Python 3",
   "language": "python",
   "name": "python3"
  },
  "language_info": {
   "codemirror_mode": {
    "name": "ipython",
    "version": 3
   },
   "file_extension": ".py",
   "mimetype": "text/x-python",
   "name": "python",
   "nbconvert_exporter": "python",
   "pygments_lexer": "ipython3",
   "version": "3.10.12"
  }
 },
 "nbformat": 4,
 "nbformat_minor": 4
}
